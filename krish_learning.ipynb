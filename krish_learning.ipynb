{
 "cells": [
  {
   "cell_type": "code",
   "execution_count": 1,
   "id": "4b5e88d2",
   "metadata": {},
   "outputs": [],
   "source": [
    "import os\n",
    "from dotenv import load_dotenv"
   ]
  },
  {
   "cell_type": "code",
   "execution_count": 2,
   "id": "a4d8ae81",
   "metadata": {},
   "outputs": [
    {
     "data": {
      "text/plain": [
       "True"
      ]
     },
     "execution_count": 2,
     "metadata": {},
     "output_type": "execute_result"
    }
   ],
   "source": [
    "load_dotenv()"
   ]
  },
  {
   "cell_type": "code",
   "execution_count": 4,
   "id": "5a170595",
   "metadata": {},
   "outputs": [],
   "source": [
    "GOOGLE_API_KEY = os.getenv(\"GOOGLE_API_KEY\")\n",
    "TAVILY_API_KEY = os.getenv(\"TAVILY_API_KEY\")\n",
    "OPENAI_API_KEY = os.getenv(\"OPENAI_API_KEY\")\n",
    "LANGSMITH_API_KEY = os.getenv(\"LANGSMITH_API_KEY\")\n",
    "LANGSMITH_TRACING_V2 = os.getenv(\"LANGSMITH_TRACING_V2\")\n",
    "LANGSMITH_PROJECT = os.getenv(\"LANGSMITH_PROJECT\")\n",
    "GROQ_API_KEY = os.getenv(\"GROQ_API_KEY\")"
   ]
  },
  {
   "cell_type": "code",
   "execution_count": 6,
   "id": "c9df48e0",
   "metadata": {},
   "outputs": [],
   "source": [
    "from langchain_tavily import TavilySearch"
   ]
  },
  {
   "cell_type": "code",
   "execution_count": null,
   "id": "79980c0c",
   "metadata": {},
   "outputs": [],
   "source": [
    "search=TavilySearch(max_results=2)"
   ]
  },
  {
   "cell_type": "code",
   "execution_count": 23,
   "id": "ce1e2ce5",
   "metadata": {},
   "outputs": [
    {
     "data": {
      "text/plain": [
       "'iPhone 17 Pro Max Price in India. The iPhone 17 Pro Max starts at ₹1,49,900 for the 256GB variant and climbs to ₹2,29,900 for the 2TB model.\\n\\nThe iPhone 17 starts at Rs 82,900, while the iPhone 17 Pro and iPhone 17 Pro Max are priced at Rs 134,900 and Rs 149,900, respectively. These'"
      ]
     },
     "execution_count": 23,
     "metadata": {},
     "output_type": "execute_result"
    }
   ],
   "source": [
    "def search_engine(query:str):\n",
    "    \"\"\"\n",
    "    This function will be used to search web and get the relavent information based on the user query\n",
    "\n",
    "    Agrs:\n",
    "    query : user request\n",
    "    \"\"\"\n",
    "    result=search.invoke(query)\n",
    "    documents=[doc['content'] for doc in result['results']]\n",
    "    final_doc=\"\\n\\n\".join(documents)\n",
    "    return final_doc\n",
    "#result=search.invoke(\"what is the price of iphone 17 in india?\")\n",
    "search_engine(\"what is the price of iphone 17 in india?\")"
   ]
  },
  {
   "cell_type": "code",
   "execution_count": 18,
   "id": "08678f91",
   "metadata": {},
   "outputs": [
    {
     "name": "stdout",
     "output_type": "stream",
     "text": [
      "iPhone 17 Pro Max Price in India. The iPhone 17 Pro Max starts at ₹1,49,900 for the 256GB variant and climbs to ₹2,29,900 for the 2TB model.\n",
      "\n",
      "The iPhone 17 starts at Rs 82,900, while the iPhone 17 Pro and iPhone 17 Pro Max are priced at Rs 134,900 and Rs 149,900, respectively. These\n"
     ]
    }
   ],
   "source": [
    "documents=[doc['content'] for doc in result['results']]\n",
    "print(\"\\n\\n\".join(documents))"
   ]
  },
  {
   "cell_type": "code",
   "execution_count": 10,
   "id": "7b3c32fd",
   "metadata": {},
   "outputs": [],
   "source": [
    "def add(a:int,b:int):\n",
    "    \"\"\"\n",
    "    This Function adds two integers\n",
    "\n",
    "    Args:\n",
    "    a : First integer\n",
    "    b : Second integer\n",
    "    \"\"\"\n",
    "    return a+b\n",
    "\n",
    "def subtract(a:int,b:int):\n",
    "    \"\"\"\n",
    "    This Function subtracts two integers\n",
    "\n",
    "    Args:\n",
    "    a : First integer\n",
    "    b : Second integer\n",
    "    \"\"\"\n",
    "    return a-b  \n",
    "\n",
    "def Multiply(a:int,b:int):\n",
    "    \"\"\"\n",
    "    This Function multiplies two integers\n",
    "\n",
    "    Args:\n",
    "    a : First integer\n",
    "    b : Second integer\n",
    "    \"\"\"\n",
    "    return a*b\n",
    "\n",
    "def divide(a:int,b:int):\n",
    "    \"\"\"\n",
    "    This Function divdes two integers\n",
    "\n",
    "    Args:\n",
    "    a : First integer\n",
    "    b : Second integer\n",
    "    \"\"\"\n",
    "    return a/b"
   ]
  },
  {
   "cell_type": "code",
   "execution_count": 27,
   "id": "be43baf0",
   "metadata": {},
   "outputs": [],
   "source": [
    "from langchain_google_genai import ChatGoogleGenerativeAI\n",
    "from langgraph.graph import MessagesState\n",
    "from langgraph.prebuilt import ToolNode\n",
    "from langgraph.graph import MessagesState\n",
    "from langgraph.graph import StateGraph,START,END"
   ]
  },
  {
   "cell_type": "code",
   "execution_count": 40,
   "id": "a8826cb1",
   "metadata": {},
   "outputs": [
    {
     "data": {
      "text/plain": [
       "AIMessage(content='The capital of India is **New Delhi**.', additional_kwargs={}, response_metadata={'prompt_feedback': {'block_reason': 0, 'safety_ratings': []}, 'finish_reason': 'STOP', 'model_name': 'gemini-2.5-flash', 'safety_ratings': []}, id='run--9e5a5679-ee43-43f7-b765-4c617c26c9a9-0', usage_metadata={'input_tokens': 8, 'output_tokens': 29, 'total_tokens': 37, 'input_token_details': {'cache_read': 0}, 'output_token_details': {'reasoning': 20}})"
      ]
     },
     "execution_count": 40,
     "metadata": {},
     "output_type": "execute_result"
    }
   ],
   "source": [
    "llm=ChatGoogleGenerativeAI(model='gemini-2.5-flash',temperature=0)\n",
    "llm.invoke(\"what is the capital of india?\")"
   ]
  },
  {
   "cell_type": "code",
   "execution_count": 41,
   "id": "ef9160c5",
   "metadata": {},
   "outputs": [],
   "source": [
    "tool=[add,subtract,Multiply,divide,search_engine]\n",
    "tool_node=ToolNode(tool)"
   ]
  },
  {
   "cell_type": "code",
   "execution_count": 42,
   "id": "72fabe8b",
   "metadata": {},
   "outputs": [],
   "source": [
    "llm_with_tools=llm.bind_tools(tool)"
   ]
  },
  {
   "cell_type": "code",
   "execution_count": 43,
   "id": "8fdc3ba8",
   "metadata": {},
   "outputs": [],
   "source": [
    "def tool_calling(state:MessagesState):\n",
    "    response=llm_with_tools.invoke(state[\"messages\"])\n",
    "    return {\"messages\":[response]}\n"
   ]
  },
  {
   "cell_type": "code",
   "execution_count": 52,
   "id": "f24631b7",
   "metadata": {},
   "outputs": [],
   "source": [
    "def router(state:MessagesState):\n",
    "    last_message=state[\"messages\"][-1]\n",
    "    if last_message.tool_calls:\n",
    "        return \"tool\"\n",
    "    return END"
   ]
  },
  {
   "cell_type": "code",
   "execution_count": 53,
   "id": "36b2c06f",
   "metadata": {},
   "outputs": [],
   "source": [
    "builder=StateGraph(MessagesState)\n",
    "builder.add_node(\"llm_with_tools\",tool_calling)\n",
    "builder.add_node(\"tool_store\",tool_node)\n",
    "builder.add_edge(START,\"llm_with_tools\")\n",
    "builder.add_conditional_edges(\n",
    "    \"llm_with_tools\",\n",
    "    router,\n",
    "    {\n",
    "        \"tool\":\"tool_store\",\n",
    "        END:END\n",
    "    }\n",
    ")\n",
    "builder.add_edge(\"tool_store\",\"llm_with_tools\")\n",
    "app=builder.compile()"
   ]
  },
  {
   "cell_type": "code",
   "execution_count": 76,
   "id": "1786cd41",
   "metadata": {},
   "outputs": [],
   "source": [
    "state={\"messages\":[\"Hi what is your name?\"]}\n",
    "state1={\"messages\":[\"add 2 and 3\"]}\n",
    "state2={\"messages\":[\"Add 3 and 4. Multiply the output by 2. Divide the output by 5\"]}\n",
    "state3={\"messages\":[\"what is the price of iphone 17 in india\"]}\n",
    "state4={\"messages\":[\"what is the price difference between iphone 17 256 GB and 2TB\"]}"
   ]
  },
  {
   "cell_type": "code",
   "execution_count": 55,
   "id": "0495567e",
   "metadata": {},
   "outputs": [
    {
     "name": "stdout",
     "output_type": "stream",
     "text": [
      "           +-----------+              \n",
      "           | __start__ |              \n",
      "           +-----------+              \n",
      "                 *                    \n",
      "                 *                    \n",
      "                 *                    \n",
      "        +----------------+            \n",
      "        | llm_with_tools |            \n",
      "        +----------------+            \n",
      "          ...         ***             \n",
      "         .               *            \n",
      "       ..                 **          \n",
      "+---------+           +------------+  \n",
      "| __end__ |           | tool_store |  \n",
      "+---------+           +------------+  \n"
     ]
    }
   ],
   "source": [
    "app.get_graph().print_ascii()"
   ]
  },
  {
   "cell_type": "code",
   "execution_count": 56,
   "id": "839ba916",
   "metadata": {},
   "outputs": [],
   "source": [
    "response=app.invoke(state)"
   ]
  },
  {
   "cell_type": "code",
   "execution_count": 57,
   "id": "40ad1baa",
   "metadata": {},
   "outputs": [
    {
     "name": "stdout",
     "output_type": "stream",
     "text": [
      "================================\u001b[1m Human Message \u001b[0m=================================\n",
      "\n",
      "Hi what is your name?\n",
      "==================================\u001b[1m Ai Message \u001b[0m==================================\n",
      "\n",
      "I am a large language model, trained by Google.\n"
     ]
    }
   ],
   "source": [
    "for msg in response[\"messages\"]:\n",
    "    msg.pretty_print()"
   ]
  },
  {
   "cell_type": "code",
   "execution_count": 58,
   "id": "3043479b",
   "metadata": {},
   "outputs": [],
   "source": [
    "response=app.invoke(state1)"
   ]
  },
  {
   "cell_type": "code",
   "execution_count": 59,
   "id": "e5d47058",
   "metadata": {},
   "outputs": [
    {
     "name": "stdout",
     "output_type": "stream",
     "text": [
      "================================\u001b[1m Human Message \u001b[0m=================================\n",
      "\n",
      "add 2 and 3\n",
      "==================================\u001b[1m Ai Message \u001b[0m==================================\n",
      "Tool Calls:\n",
      "  add (e8c005d2-8e82-42f0-8840-9c6d6dd409d1)\n",
      " Call ID: e8c005d2-8e82-42f0-8840-9c6d6dd409d1\n",
      "  Args:\n",
      "    b: 3\n",
      "    a: 2\n",
      "=================================\u001b[1m Tool Message \u001b[0m=================================\n",
      "Name: add\n",
      "\n",
      "5\n",
      "==================================\u001b[1m Ai Message \u001b[0m==================================\n",
      "\n",
      "The sum of 2 and 3 is 5.\n"
     ]
    }
   ],
   "source": [
    "for msg in response[\"messages\"]:\n",
    "    msg.pretty_print()"
   ]
  },
  {
   "cell_type": "code",
   "execution_count": 60,
   "id": "d2b7cb95",
   "metadata": {},
   "outputs": [],
   "source": [
    "response=app.invoke(state2)"
   ]
  },
  {
   "cell_type": "code",
   "execution_count": 61,
   "id": "bbbc154c",
   "metadata": {},
   "outputs": [
    {
     "name": "stdout",
     "output_type": "stream",
     "text": [
      "================================\u001b[1m Human Message \u001b[0m=================================\n",
      "\n",
      "Add 3 and 4. Multiply the output by 2. Divide the output by 5\n",
      "==================================\u001b[1m Ai Message \u001b[0m==================================\n",
      "Tool Calls:\n",
      "  add (3c4d56e8-2727-4562-b15d-f2c3ef60be3b)\n",
      " Call ID: 3c4d56e8-2727-4562-b15d-f2c3ef60be3b\n",
      "  Args:\n",
      "    b: 4\n",
      "    a: 3\n",
      "=================================\u001b[1m Tool Message \u001b[0m=================================\n",
      "Name: add\n",
      "\n",
      "7\n",
      "==================================\u001b[1m Ai Message \u001b[0m==================================\n",
      "Tool Calls:\n",
      "  Multiply (b48e17eb-1280-4543-a74e-542f6df96ab8)\n",
      " Call ID: b48e17eb-1280-4543-a74e-542f6df96ab8\n",
      "  Args:\n",
      "    b: 2\n",
      "    a: 7\n",
      "=================================\u001b[1m Tool Message \u001b[0m=================================\n",
      "Name: Multiply\n",
      "\n",
      "14\n",
      "==================================\u001b[1m Ai Message \u001b[0m==================================\n",
      "Tool Calls:\n",
      "  divide (4537899d-b861-4514-af71-1147ce24550a)\n",
      " Call ID: 4537899d-b861-4514-af71-1147ce24550a\n",
      "  Args:\n",
      "    b: 5\n",
      "    a: 14\n",
      "=================================\u001b[1m Tool Message \u001b[0m=================================\n",
      "Name: divide\n",
      "\n",
      "2.8\n",
      "==================================\u001b[1m Ai Message \u001b[0m==================================\n",
      "\n",
      "The final answer is 2.8.\n"
     ]
    }
   ],
   "source": [
    "for msg in response[\"messages\"]:\n",
    "    msg.pretty_print()"
   ]
  },
  {
   "cell_type": "code",
   "execution_count": 74,
   "id": "a81819a9",
   "metadata": {},
   "outputs": [],
   "source": [
    "response=app.invoke(state3)"
   ]
  },
  {
   "cell_type": "code",
   "execution_count": 75,
   "id": "deebbf11",
   "metadata": {},
   "outputs": [
    {
     "name": "stdout",
     "output_type": "stream",
     "text": [
      "================================\u001b[1m Human Message \u001b[0m=================================\n",
      "\n",
      "what is the price of iphone 17 in india\n",
      "==================================\u001b[1m Ai Message \u001b[0m==================================\n",
      "Tool Calls:\n",
      "  search_engine (78043a1b-8010-46ec-a0dd-a7cd774cecec)\n",
      " Call ID: 78043a1b-8010-46ec-a0dd-a7cd774cecec\n",
      "  Args:\n",
      "    query: price of iphone 17 in india\n",
      "=================================\u001b[1m Tool Message \u001b[0m=================================\n",
      "Name: search_engine\n",
      "\n",
      "iPhone 17 Pro Max Price in India. The iPhone 17 Pro Max starts at ₹1,49,900 for the 256GB variant and climbs to ₹2,29,900 for the 2TB model.\n",
      "\n",
      "# List of 7 Countries Where iPhone 17 is More Affordable Than India List of Countries Where iPhone 17 is More Affordable Than India (Source Apple India) Apple products, especially the new model iPhones are often priced quite high in India in comparison to other countries. That is why the current pricing of the iPhone 17 in India starts from 82,900. Here is a look at a list of 7 countries where the iPhone 17 has a better price segment than in India. ## List of Countries Where iPhone 17 is More Affordable Than in India * New GST Rates 2025: Full List of Items with Revised GST Percentage, Download PDF * List of 7 Countries Where iPhone 17 is More Affordable Than India\n",
      "==================================\u001b[1m Ai Message \u001b[0m==================================\n",
      "\n",
      "The iPhone 17 Pro Max starts at ₹1,49,900 for the 256GB variant and goes up to ₹2,29,900 for the 2TB model. The iPhone 17 in India starts from ₹82,900.\n"
     ]
    }
   ],
   "source": [
    "for msg in response[\"messages\"]:\n",
    "    msg.pretty_print()"
   ]
  },
  {
   "cell_type": "code",
   "execution_count": 77,
   "id": "dde980e4",
   "metadata": {},
   "outputs": [],
   "source": [
    "response=app.invoke(state4)"
   ]
  },
  {
   "cell_type": "code",
   "execution_count": 78,
   "id": "3394077d",
   "metadata": {},
   "outputs": [
    {
     "name": "stdout",
     "output_type": "stream",
     "text": [
      "================================\u001b[1m Human Message \u001b[0m=================================\n",
      "\n",
      "what is the price difference between iphone 17 256 GB and 2TB\n",
      "==================================\u001b[1m Ai Message \u001b[0m==================================\n",
      "Tool Calls:\n",
      "  search_engine (bb7b2c59-2738-4d11-9add-c5501148a7a8)\n",
      " Call ID: bb7b2c59-2738-4d11-9add-c5501148a7a8\n",
      "  Args:\n",
      "    query: price of iphone 17 256 GB\n",
      "  search_engine (e8a830d5-0b8c-49a9-99a6-ad9d2e228df3)\n",
      " Call ID: e8a830d5-0b8c-49a9-99a6-ad9d2e228df3\n",
      "  Args:\n",
      "    query: price of iphone 17 2TB\n",
      "=================================\u001b[1m Tool Message \u001b[0m=================================\n",
      "Name: search_engine\n",
      "\n",
      "iPhone 17, Price, currently viewing. 256GB model from. $799. or $33.29/mo. for 24 mo.* Storage up to 512GB 6. Storage from 6. 256GB–512GB. iPhone Air, Price.\n",
      "\n",
      "The baseline iPhone 17, with a 6.27-inch screen, starts at $799 with 256 GB of memory, the same price as the iPhone 16 with half the memory. The\n",
      "=================================\u001b[1m Tool Message \u001b[0m=================================\n",
      "Name: search_engine\n",
      "\n",
      "The 2TB iPhone 17 Pro Max costs $1,999. I heard lots of oooohs and\n",
      "\n",
      "Storage from 6. 256GB–1TB. iPhone 17 Pro, Price. 256GB model from. $1099. or $45.79/mo. for 24 mo.* Storage up to 2TB on iPhone 17 Pro Max 6. Storage from 6.\n",
      "==================================\u001b[1m Ai Message \u001b[0m==================================\n",
      "\n",
      "The price of the iPhone 17 256 GB is $799 and the price of the iPhone 17 2TB is $1999.\n",
      "The price difference between the iPhone 17 256 GB and 2TB is $1200.\n"
     ]
    }
   ],
   "source": [
    "for msg in response[\"messages\"]:\n",
    "    msg.pretty_print()"
   ]
  },
  {
   "cell_type": "code",
   "execution_count": 79,
   "id": "96f33116",
   "metadata": {},
   "outputs": [
    {
     "data": {
      "text/plain": [
       "{'messages': [HumanMessage(content='what is the price difference between iphone 17 256 GB and 2TB', additional_kwargs={}, response_metadata={}, id='f1699abf-1bc9-4dc2-b088-c7e6361333a7'),\n",
       "  AIMessage(content='', additional_kwargs={'function_call': {'name': 'search_engine', 'arguments': '{\"query\": \"price of iphone 17 2TB\"}'}}, response_metadata={'prompt_feedback': {'block_reason': 0, 'safety_ratings': []}, 'finish_reason': 'STOP', 'model_name': 'gemini-2.5-flash', 'safety_ratings': []}, id='run--dcb93de6-e0b4-4c97-ae52-a1a817bda575-0', tool_calls=[{'name': 'search_engine', 'args': {'query': 'price of iphone 17 256 GB'}, 'id': 'bb7b2c59-2738-4d11-9add-c5501148a7a8', 'type': 'tool_call'}, {'name': 'search_engine', 'args': {'query': 'price of iphone 17 2TB'}, 'id': 'e8a830d5-0b8c-49a9-99a6-ad9d2e228df3', 'type': 'tool_call'}], usage_metadata={'input_tokens': 274, 'output_tokens': 123, 'total_tokens': 397, 'input_token_details': {'cache_read': 0}, 'output_token_details': {'reasoning': 75}}),\n",
       "  ToolMessage(content='iPhone 17, Price, currently viewing. 256GB model from. $799. or $33.29/mo. for 24 mo.* Storage up to 512GB 6. Storage from 6. 256GB–512GB. iPhone Air, Price.\\n\\nThe baseline iPhone 17, with a 6.27-inch screen, starts at $799 with 256 GB of memory, the same price as the iPhone 16 with half the memory. The', name='search_engine', id='bf158939-e015-47e8-b264-67bc497b519f', tool_call_id='bb7b2c59-2738-4d11-9add-c5501148a7a8'),\n",
       "  ToolMessage(content='The 2TB iPhone 17 Pro Max costs $1,999. I heard lots of oooohs and\\n\\nStorage from 6. 256GB–1TB. iPhone 17 Pro, Price. 256GB model from. $1099. or $45.79/mo. for 24 mo.* Storage up to 2TB on iPhone 17 Pro Max 6. Storage from 6.', name='search_engine', id='01c6d793-919c-449d-b05a-7655064ee92d', tool_call_id='e8a830d5-0b8c-49a9-99a6-ad9d2e228df3'),\n",
       "  AIMessage(content='The price of the iPhone 17 256 GB is $799 and the price of the iPhone 17 2TB is $1999.\\nThe price difference between the iPhone 17 256 GB and 2TB is $1200.', additional_kwargs={}, response_metadata={'prompt_feedback': {'block_reason': 0, 'safety_ratings': []}, 'finish_reason': 'STOP', 'model_name': 'gemini-2.5-flash', 'safety_ratings': []}, id='run--438ff1f8-66bd-4acc-a744-ebcc0e01fe8b-0', usage_metadata={'input_tokens': 573, 'output_tokens': 333, 'total_tokens': 906, 'input_token_details': {'cache_read': 0}, 'output_token_details': {'reasoning': 270}})]}"
      ]
     },
     "execution_count": 79,
     "metadata": {},
     "output_type": "execute_result"
    }
   ],
   "source": [
    "response"
   ]
  },
  {
   "cell_type": "code",
   "execution_count": 83,
   "id": "2d200db1",
   "metadata": {},
   "outputs": [],
   "source": [
    "state={\"messages\":[\" i need to plan a trip to trivandrum,kerala. pls let me know the avg 4 start hotel price per day. convert the currency in INR. if i plan to stay for 5 days, how much it will cost me. i need trip itinery as well. pls summarize the entrie output\"]}"
   ]
  },
  {
   "cell_type": "code",
   "execution_count": 84,
   "id": "10c2f268",
   "metadata": {},
   "outputs": [],
   "source": [
    "response=app.invoke(state)"
   ]
  },
  {
   "cell_type": "code",
   "execution_count": 85,
   "id": "ec9046ac",
   "metadata": {},
   "outputs": [
    {
     "name": "stdout",
     "output_type": "stream",
     "text": [
      "================================\u001b[1m Human Message \u001b[0m=================================\n",
      "\n",
      " i need to plan a trip to trivandrum,kerala. pls let me know the avg 4 start hotel price per day. convert the currency in INR. if i plan to stay for 5 days, how much it will cost me. i need trip itinery as well. pls summarize the entrie output\n",
      "==================================\u001b[1m Ai Message \u001b[0m==================================\n",
      "Tool Calls:\n",
      "  search_engine (5a8e5ece-4f21-41ac-9c8a-90d4e6528e35)\n",
      " Call ID: 5a8e5ece-4f21-41ac-9c8a-90d4e6528e35\n",
      "  Args:\n",
      "    query: average 4 star hotel price per day in Trivandrum INR\n",
      "=================================\u001b[1m Tool Message \u001b[0m=================================\n",
      "Name: search_engine\n",
      "\n",
      "How much do 4-star hotels cost in Thiruvananthapuram? The average price of a 4-star hotel in Thiruvananthapuram is currently around ر.ق.‏ 142 per night. And\n",
      "\n",
      "How much is a 4-star hotel in Trivandrum for this weekend? The average price per night for a 4-star hotel in Trivandrum this weekend is $52 (based on\n",
      "==================================\u001b[1m Ai Message \u001b[0m==================================\n",
      "Tool Calls:\n",
      "  search_engine (b1409b52-c25c-4e78-9f23-2b30ada8615a)\n",
      " Call ID: b1409b52-c25c-4e78-9f23-2b30ada8615a\n",
      "  Args:\n",
      "    query: 142 QAR to INR\n",
      "  search_engine (8897ae94-88e6-433b-8567-f652b7da8400)\n",
      " Call ID: 8897ae94-88e6-433b-8567-f652b7da8400\n",
      "  Args:\n",
      "    query: 52 USD to INR\n",
      "=================================\u001b[1m Tool Message \u001b[0m=================================\n",
      "Name: search_engine\n",
      "\n",
      "Indian Rupee(INR) To Qatar Rial(QAR) · 142 INR · 5.8966 QAR.\n",
      "\n",
      "1 QAR = 24.22 INR, 142 QAR = 3439.90 INR, 283 QAR = 6855.58 INR, 424 QAR = 10271.25 INR, 565 QAR = 13686.93 INR, 706 QAR = 17102.61 INR, 847 QAR = 20518.28\n",
      "=================================\u001b[1m Tool Message \u001b[0m=================================\n",
      "Name: search_engine\n",
      "\n",
      "Convert currency 52 USD to INR. How much is $52 US Dollar to Indian Rupee? — ₹4591.837 INR.Look at the reverse course INR to USD.Perhaps you may be interested\n",
      "\n",
      "According to the International Foreign Exchange rate market the USD to INR rate is 88.309. If you exchange 52 USD you get 4,592.069 INR. When there is a change\n",
      "==================================\u001b[1m Ai Message \u001b[0m==================================\n",
      "\n",
      "The average price for a 4-star hotel in Trivandrum is approximately **₹4016 per day**.\n",
      "For a 5-day stay, the estimated hotel cost would be **₹20080**.\n",
      "\n",
      "Here's a possible 5-day trip itinerary for Trivandrum:\n",
      "\n",
      "**Day 1: Arrival and City Exploration**\n",
      "*   Arrive in Trivandrum and check into your hotel.\n",
      "*   Visit the iconic **Padmanabhaswamy Temple** (ensure you adhere to the dress code).\n",
      "*   Explore the **Kuthiramalika Palace Museum** (Puthenmalika Palace) located near the temple.\n",
      "*   Enjoy a leisurely evening at **Shanghumugham Beach**, known for its beautiful sunset and the Matsya Kanyaka (mermaid statue).\n",
      "\n",
      "**Day 2: Beach Bliss and Cultural Immersion**\n",
      "*   Spend the day at **Kovalam Beach**, one of Kerala's most famous beaches. You can relax, swim, or indulge in water sports.\n",
      "*   Visit the **Vizhinjam Lighthouse** for panoramic views of the coastline.\n",
      "*   Explore the **Vizhinjam Fishing Harbor** to witness local life.\n",
      "\n",
      "**Day 3: Nature and Art**\n",
      "*   Head to the **Napier Museum** and **Priyadarshini Planetarium** (located within the same complex) to explore art, history, and science.\n",
      "*   Stroll through the lush greenery of the **Botanical Garden** (near the museum).\n",
      "*   In the afternoon, visit the **Thiruvananthapuram Zoo** for a diverse range of wildlife.\n",
      "\n",
      "**Day 4: Backwater Experience and Spiritual Retreat**\n",
      "*   Take a day trip to **Poovar Island**, known for its serene backwaters and golden sand beach where the lake, river, and sea meet. You can enjoy a boat ride through the backwaters.\n",
      "*   Alternatively, visit the **Aruvikkara Bhagavathi Temple** for a spiritual experience amidst nature.\n",
      "\n",
      "**Day 5: Departure**\n",
      "*   Depending on your departure schedule, you can do some last-minute souvenir shopping at local markets.\n",
      "*   Depart from Trivandrum.\n",
      "\n",
      "**Summary:**\n",
      "Your 5-day trip to Trivandrum will cost approximately **₹20080** for a 4-star hotel stay. The itinerary includes a mix of cultural sites like Padmanabhaswamy Temple and Kuthiramalika Palace, relaxing beach time at Kovalam and Shanghumugham, nature exploration at the Zoo and Botanical Garden, and a backwater experience at Poovar Island.\n"
     ]
    }
   ],
   "source": [
    "for msg in response[\"messages\"]:\n",
    "    msg.pretty_print()"
   ]
  },
  {
   "cell_type": "code",
   "execution_count": null,
   "id": "bfd5c0c0",
   "metadata": {},
   "outputs": [],
   "source": []
  }
 ],
 "metadata": {
  "kernelspec": {
   "display_name": "env (3.11.13)",
   "language": "python",
   "name": "python3"
  },
  "language_info": {
   "codemirror_mode": {
    "name": "ipython",
    "version": 3
   },
   "file_extension": ".py",
   "mimetype": "text/x-python",
   "name": "python",
   "nbconvert_exporter": "python",
   "pygments_lexer": "ipython3",
   "version": "3.11.13"
  }
 },
 "nbformat": 4,
 "nbformat_minor": 5
}
